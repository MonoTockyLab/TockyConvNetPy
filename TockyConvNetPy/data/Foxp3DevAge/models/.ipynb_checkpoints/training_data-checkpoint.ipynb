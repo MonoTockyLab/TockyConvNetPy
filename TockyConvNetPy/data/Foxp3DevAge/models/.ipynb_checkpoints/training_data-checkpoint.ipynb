{
 "cells": [
  {
   "cell_type": "code",
   "execution_count": 1,
   "id": "337b5ebc-bb1b-4d34-b965-85ae7d12118f",
   "metadata": {},
   "outputs": [
    {
     "ename": "FileNotFoundError",
     "evalue": "[Errno 2] No such file or directory: 'all_data_images.npy'",
     "output_type": "error",
     "traceback": [
      "\u001b[0;31m---------------------------------------------------------------------------\u001b[0m",
      "\u001b[0;31mFileNotFoundError\u001b[0m                         Traceback (most recent call last)",
      "Cell \u001b[0;32mIn[1], line 12\u001b[0m\n\u001b[1;32m      9\u001b[0m age_min \u001b[38;5;241m=\u001b[39m \u001b[38;5;241m0\u001b[39m \n\u001b[1;32m     10\u001b[0m age_max \u001b[38;5;241m=\u001b[39m \u001b[38;5;241m400\u001b[39m \n\u001b[0;32m---> 12\u001b[0m all_images \u001b[38;5;241m=\u001b[39m \u001b[43mnp\u001b[49m\u001b[38;5;241;43m.\u001b[39;49m\u001b[43mload\u001b[49m\u001b[43m(\u001b[49m\u001b[38;5;124;43m'\u001b[39;49m\u001b[38;5;124;43mall_data_images.npy\u001b[39;49m\u001b[38;5;124;43m'\u001b[39;49m\u001b[43m)\u001b[49m\n\u001b[1;32m     13\u001b[0m all_labels \u001b[38;5;241m=\u001b[39m np\u001b[38;5;241m.\u001b[39mload(\u001b[38;5;124m'\u001b[39m\u001b[38;5;124mall_data_labels.npy\u001b[39m\u001b[38;5;124m'\u001b[39m)\n\u001b[1;32m     14\u001b[0m age_data \u001b[38;5;241m=\u001b[39m pd\u001b[38;5;241m.\u001b[39mread_csv(\u001b[38;5;124m'\u001b[39m\u001b[38;5;124mall_data_ages.csv\u001b[39m\u001b[38;5;124m'\u001b[39m)\n",
      "File \u001b[0;32m~/anaconda3/envs/legacy_tf/lib/python3.8/site-packages/numpy/lib/npyio.py:417\u001b[0m, in \u001b[0;36mload\u001b[0;34m(file, mmap_mode, allow_pickle, fix_imports, encoding)\u001b[0m\n\u001b[1;32m    415\u001b[0m     own_fid \u001b[38;5;241m=\u001b[39m \u001b[38;5;28;01mFalse\u001b[39;00m\n\u001b[1;32m    416\u001b[0m \u001b[38;5;28;01melse\u001b[39;00m:\n\u001b[0;32m--> 417\u001b[0m     fid \u001b[38;5;241m=\u001b[39m stack\u001b[38;5;241m.\u001b[39menter_context(\u001b[38;5;28;43mopen\u001b[39;49m\u001b[43m(\u001b[49m\u001b[43mos_fspath\u001b[49m\u001b[43m(\u001b[49m\u001b[43mfile\u001b[49m\u001b[43m)\u001b[49m\u001b[43m,\u001b[49m\u001b[43m \u001b[49m\u001b[38;5;124;43m\"\u001b[39;49m\u001b[38;5;124;43mrb\u001b[39;49m\u001b[38;5;124;43m\"\u001b[39;49m\u001b[43m)\u001b[49m)\n\u001b[1;32m    418\u001b[0m     own_fid \u001b[38;5;241m=\u001b[39m \u001b[38;5;28;01mTrue\u001b[39;00m\n\u001b[1;32m    420\u001b[0m \u001b[38;5;66;03m# Code to distinguish from NumPy binary files and pickles.\u001b[39;00m\n",
      "\u001b[0;31mFileNotFoundError\u001b[0m: [Errno 2] No such file or directory: 'all_data_images.npy'"
     ]
    }
   ],
   "source": [
    "#Import Independent Test Data\n",
    "import numpy as np\n",
    "import pandas as pd\n",
    "from sklearn.metrics import accuracy_score, confusion_matrix, precision_score, recall_score\n",
    "from tensorflow.keras.utils import to_categorical\n",
    "from sklearn.preprocessing import LabelEncoder\n",
    "from TockyConvNetPy import log_scale_age\n",
    "\n",
    "age_min = 0 \n",
    "age_max = 400 \n",
    "\n",
    "all_images = np.load('all_data_images.npy')\n",
    "all_labels = np.load('all_data_labels.npy')\n",
    "age_data = pd.read_csv('all_data_ages.csv')\n",
    "timer_pos_data = pd.read_csv('all_timer_pos.csv')\n",
    "timer_pos_data = timer_pos_data['timer_positive'].values\n",
    "all_ages = age_data['age'].values\n",
    "age_vec = age_data['age']\n",
    "all_timers_scaled = timer_pos_data/100\n",
    "age_scaled = log_scale_age(all_ages, 400) \n",
    "\n",
    "new_labels = []\n",
    "for i in range(len(all_labels)):\n",
    "    organ = \"Spleen\" if all_labels[i,0] == 1 else \"Thymus\"\n",
    "    age_group = \"Aged\" if all_ages[i] >= 30 else \"Young\"\n",
    "    new_labels.append(organ + age_group)\n",
    "\n",
    "new_labels = np.array(new_labels)\n",
    "\n",
    "encoder = LabelEncoder()\n",
    "integer_labels = encoder.fit_transform(new_labels)\n",
    "one_hot_labels = to_categorical(integer_labels, num_classes=4)\n",
    "class_indices = {class_name: np.where(integer_labels == i)[0] for i, class_name in enumerate(encoder.classes_)}\n",
    "\n",
    "print(\"Number of samples in each class:\")\n",
    "for class_name, indices in class_indices.items():\n",
    "    print(f\"{class_name}: {len(indices)} samples\")"
   ]
  },
  {
   "cell_type": "code",
   "execution_count": null,
   "id": "073a5004-c723-46e0-8b38-98958cce60c9",
   "metadata": {},
   "outputs": [],
   "source": []
  }
 ],
 "metadata": {
  "kernelspec": {
   "display_name": "Python (legacy_tf)",
   "language": "python",
   "name": "legacy_tf"
  },
  "language_info": {
   "codemirror_mode": {
    "name": "ipython",
    "version": 3
   },
   "file_extension": ".py",
   "mimetype": "text/x-python",
   "name": "python",
   "nbconvert_exporter": "python",
   "pygments_lexer": "ipython3",
   "version": "3.8.15"
  }
 },
 "nbformat": 4,
 "nbformat_minor": 5
}
