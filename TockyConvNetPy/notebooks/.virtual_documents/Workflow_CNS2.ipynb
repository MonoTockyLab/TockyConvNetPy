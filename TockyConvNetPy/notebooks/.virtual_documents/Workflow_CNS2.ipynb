





import importlib.resources
from tensorflow.keras.models import load_model

with importlib.resources.path("TockyConvNetPy.data.Foxp3CNS2.models", "CNS2Foxp3Tocky_trained_model.keras") as model_path:
    model = load_model(str(model_path))


model.summary()


#Test Images From Independent Test Dataset
import os
import pandas as pd
import numpy as np
from sklearn.metrics import accuracy_score, confusion_matrix, precision_score, recall_score, roc_curve, roc_auc_score, precision_recall_curve, average_precision_score
import matplotlib.pyplot as plt
from TockyConvNetPy import find_optimal_threshold
import importlib.resources

with importlib.resources.path("TockyConvNetPy.data.Foxp3CNS2.test_data", "sample_images.npy") as images_path:
    with importlib.resources.path("TockyConvNetPy.data.Foxp3CNS2.test_data", "sample_labels.npy") as labels_path:
        images_path = str(images_path)
        labels_path = str(labels_path)

sample_images = np.load(images_path)
sample_labels = np.load(labels_path)
true_classes = np.argmax(sample_labels, axis=1)

# Make predictions and Compute ROC and PR curves
probabilities = model.predict(sample_images)
positive_class_probabilities = probabilities[:, 1]
fpr, tpr, thresholds = roc_curve(true_classes, positive_class_probabilities)
roc_auc = roc_auc_score(true_classes, positive_class_probabilities)

optimal_threshold = find_optimal_threshold(fpr, tpr, thresholds)
predicted_classes = (probabilities[:, 1] >= optimal_threshold).astype(int)
cm = confusion_matrix(true_classes, predicted_classes)
print("Confusion Matrix:")
print(cm)

# Specificity and Sensitivity
TN, FP, FN, TP = cm.ravel()
specificity = TN / (TN + FP)
sensitivity = TP / (TP + FN)
print(f"Specificity: {specificity:.2f}")
print(f"Sensitivity: {sensitivity:.2f}")
acc = accuracy_score(true_classes, predicted_classes)
print(f"Accuracy: {acc*100:.2f}%")

# Plotting ROC and PR curves
precision, recall, _ = precision_recall_curve(true_classes, positive_class_probabilities)
average_precision = average_precision_score(true_classes, positive_class_probabilities)

plt.figure(figsize=(16, 6))

# ROC Curve
plt.subplot(1, 2, 1)
plt.plot(fpr, tpr, color='darkorange', lw=2, label='ROC curve (area = %0.2f)' % roc_auc)
plt.plot([0, 1], [0, 1], color='navy', lw=2, linestyle='--')
plt.xlim([0.0, 1.0])
plt.ylim([0.0, 1.05])
plt.xlabel('False Positive Rate')
plt.ylabel('True Positive Rate')
plt.title('Receiver Operating Characteristic')
plt.legend(loc="lower right")

# PR Curve
plt.subplot(1, 2, 2)
plt.plot(recall, precision, color='blue', lw=2, label='PR curve (area = %0.2f)' % average_precision)
plt.fill_between(recall, precision, step='post', alpha=0.2, color='blue')
plt.xlabel('Recall')
plt.ylabel('Precision')
plt.ylim([0.0, 1.05])
plt.xlim([0.0, 1.0])
plt.title('Precision-Recall Curve')
plt.legend(loc="lower left")
plt.show()





from TockyConvNetPy import find_optimal_threshold, generate_aggregated_heatmap, smooth_heatmap, visualize_heatmaps

layer_names = ["conv2d", "conv2d_1", "conv2d_2", "conv2d_3"]

for layer in layer_names:
    probabilities = model.predict(sample_images)
    WT_class_probabilities = probabilities[:, 1]
    fpr, tpr, thresholds = roc_curve(true_classes, WT_class_probabilities)
    optimal_threshold_WT = find_optimal_threshold(fpr, tpr, thresholds)

    KO_class_probabilities = probabilities[:, 0]
    fpr, tpr, thresholds = roc_curve(true_classes, KO_class_probabilities)
    optimal_threshold_KO = find_optimal_threshold(fpr, tpr, thresholds)

    WT_aggregated_heatmap = generate_aggregated_heatmap(sample_images, model, layer, optimal_threshold_WT, 1)
    CNS2KO_aggregated_heatmap = generate_aggregated_heatmap(sample_images, model, layer, optimal_threshold_KO, 0)

    WT_smoothed_heatmap = smooth_heatmap(WT_aggregated_heatmap, sigma=3)
    CNS2KO_smoothed_heatmap = smooth_heatmap(CNS2KO_aggregated_heatmap, sigma=3)
    heatmap_difference = WT_smoothed_heatmap - CNS2KO_smoothed_heatmap

    print(f"Grad-CAM Analysis of {layer}")

    visualize_heatmaps(WT_aggregated_heatmap, WT_smoothed_heatmap, heatmap_difference, f"WT Grad-CAM ({layer})")
    visualize_heatmaps(CNS2KO_aggregated_heatmap, CNS2KO_smoothed_heatmap, -heatmap_difference, f"CNS2KO Grad-CAM ({layer})")






# Optional: Save results to CSV

#from TockyConvNetPy find_optimal_threshold, generate_aggregated_heatmap, smooth_heatmap visualize_heatmaps
import numpy as np
import matplotlib.pyplot as plt
import matplotlib as mpl
from scipy.ndimage import gaussian_filter
from skimage import exposure
import matplotlib.colors as mcolors

# Setup
conv_layer = "conv2d_3" 

# Calculate probabilities and thresholds
probabilities = model.predict(sample_images)
WT_class_probabilities = probabilities[:, 1]
fpr, tpr, thresholds = roc_curve(true_classes, WT_class_probabilities)
optimal_threshold_WT = find_optimal_threshold(fpr, tpr, thresholds)

KO_class_probabilities = probabilities[:, 0]
fpr, tpr, thresholds = roc_curve(true_classes, KO_class_probabilities)
optimal_threshold_KO = find_optimal_threshold(fpr, tpr, thresholds)

WT_aggregated_heatmap = generate_aggregated_heatmap(sample_images, model, conv_layer, optimal_threshold_WT, 1)
CNS2KO_aggregated_heatmap = generate_aggregated_heatmap(sample_images, model, conv_layer,  optimal_threshold_KO, 0)

WT_smoothed_heatmap = smooth_heatmap(WT_aggregated_heatmap, sigma=3)
CNS2KO_smoothed_heatmap = smooth_heatmap(CNS2KO_aggregated_heatmap, sigma=3)
heatmap_difference = WT_smoothed_heatmap - CNS2KO_smoothed_heatmap

def save_to_csv(data, filename):
    df = pd.DataFrame(data)
    csv_path = os.path.join(conv_layer, filename)
    df.to_csv(csv_path, index=False)

if not os.path.exists(conv_layer):
    os.makedirs(conv_layer)

save_to_csv(heatmap_difference, 'heatmap_difference.csv')



