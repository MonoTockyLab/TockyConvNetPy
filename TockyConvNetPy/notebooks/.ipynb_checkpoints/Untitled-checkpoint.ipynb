{
 "cells": [
  {
   "cell_type": "code",
   "execution_count": null,
   "id": "7ca29385-ed75-4ec8-871b-1f761ed6b09f",
   "metadata": {},
   "outputs": [],
   "source": [
    "import pkg_resources\n",
    "import tensorflow as tf\n",
    "from tensorflow.keras.models import load_model\n",
    "\n",
    "model_path = 'model.keras'\n",
    "\n",
    "model = load_model(model_path)\n",
    "\n",
    "model.summary()\n"
   ]
  }
 ],
 "metadata": {
  "kernelspec": {
   "display_name": "Python 3 (ipykernel)",
   "language": "python",
   "name": "python3"
  },
  "language_info": {
   "codemirror_mode": {
    "name": "ipython",
    "version": 3
   },
   "file_extension": ".py",
   "mimetype": "text/x-python",
   "name": "python",
   "nbconvert_exporter": "python",
   "pygments_lexer": "ipython3",
   "version": "3.11.4"
  }
 },
 "nbformat": 4,
 "nbformat_minor": 5
}
